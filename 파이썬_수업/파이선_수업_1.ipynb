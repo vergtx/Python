{
  "nbformat": 4,
  "nbformat_minor": 0,
  "metadata": {
    "colab": {
      "provenance": []
    },
    "kernelspec": {
      "name": "python3",
      "display_name": "Python 3"
    },
    "language_info": {
      "name": "python"
    }
  },
  "cells": [
    {
      "cell_type": "markdown",
      "source": [
        "사용자로부터 사과의 개수와 가격, 그리고 부가세율을 입력받아, 총 가격을 계산하는 프로그램을 작성하세요."
      ],
      "metadata": {
        "id": "YSxVSPgDZtY8"
      }
    },
    {
      "cell_type": "code",
      "source": [
        "사과수 = int(input(\"사과수는?\"))\n",
        "사과가격 = int(input(\"사과가격은?\"))\n",
        "부과세 = float(input(\"부과세(%)는?\"))/100\n",
        "price = 사과수*사과가격\n",
        "tax = price*부과세\n",
        "total = price + tax\n",
        "\n",
        "print(f\"결제 금액: {total:.0f}원\")\n"
      ],
      "metadata": {
        "colab": {
          "base_uri": "https://localhost:8080/"
        },
        "id": "uBzTZouus38x",
        "outputId": "aa18fe15-6c09-47f6-bf28-d7de7bcd3885"
      },
      "execution_count": 6,
      "outputs": [
        {
          "output_type": "stream",
          "name": "stdout",
          "text": [
            "사과수는?10\n",
            "사과가격은?300\n",
            "부과세(%)는?10\n",
            "결제 금액: 3300원\n"
          ]
        }
      ]
    },
    {
      "cell_type": "markdown",
      "source": [
        "초를 입력하면 분과 초로 표시하는 프로그램. 예를 들어, 200초를 입력하면 3분 20초로 표현하라\n",
        "\n"
      ],
      "metadata": {
        "id": "5tvBZKnDuZyA"
      }
    },
    {
      "cell_type": "code",
      "source": [
        "total_seconds = int(input(\"초를 입력하세요.\"))\n",
        "\n",
        "m = total_seconds // 60\n",
        "s = total_seconds % 60\n",
        "print(f\"{total_seconds}초는 {m}분 {s}초 입니다.\")"
      ],
      "metadata": {
        "colab": {
          "base_uri": "https://localhost:8080/"
        },
        "id": "vNGxND_eucxg",
        "outputId": "fa4314b0-ebf6-4477-cd48-f1c51d81df10"
      },
      "execution_count": 7,
      "outputs": [
        {
          "output_type": "stream",
          "name": "stdout",
          "text": [
            "초를 입력하세요.1400\n",
            "1400초는 23분 20초 입니다.\n"
          ]
        }
      ]
    },
    {
      "cell_type": "markdown",
      "source": [
        "분(min)을 입력 하면, 일, 시간, 분으로 출력하는 프로그램을 만들어라. (예 : 1550분은 1일 1시간 50분)\n"
      ],
      "metadata": {
        "id": "n13EBYZqvdzA"
      }
    },
    {
      "cell_type": "code",
      "source": [
        "tm = int(input(\"분을 입력하세요.\"))\n",
        "\n",
        "d = tm // ( 24 * 60 )\n",
        "h = ( tm // 60 ) % 24\n",
        "m = tm % 60\n",
        "\n",
        "print(f\"{d}일 {h}시간 {m}분\")"
      ],
      "metadata": {
        "colab": {
          "base_uri": "https://localhost:8080/"
        },
        "id": "fEObj1KYvdo4",
        "outputId": "809cd89c-9248-4d28-c197-2551fbc5848e"
      },
      "execution_count": 8,
      "outputs": [
        {
          "output_type": "stream",
          "name": "stdout",
          "text": [
            "분을 입력하세요.1550\n",
            "1일 1시간 50분\n"
          ]
        }
      ]
    },
    {
      "cell_type": "markdown",
      "source": [
        "500만원을 년이율 5%로 복리 저금했을 때 5년 후의 원리금의 합계를 출력하는 프로그램\n"
      ],
      "metadata": {
        "id": "qjdfjMbIyRtg"
      }
    },
    {
      "cell_type": "code",
      "source": [
        "원금 = 5000000\n",
        "이율 = 0.05\n",
        "기간 = 5\n",
        "\n",
        "총액 = 원금*(1+이율)**기간\n",
        "print(f\"금액: {int(총액)}원\")"
      ],
      "metadata": {
        "colab": {
          "base_uri": "https://localhost:8080/"
        },
        "id": "Wg_3wHaAySr-",
        "outputId": "59cabef3-4119-4e09-dd98-e62f50838ac8"
      },
      "execution_count": 1,
      "outputs": [
        {
          "output_type": "stream",
          "name": "stdout",
          "text": [
            "금액: 6381407원\n"
          ]
        }
      ]
    },
    {
      "cell_type": "markdown",
      "source": [
        "1부터 n까지의 합은 n(n+1)/2로 주어진다. 1부터 100까지의 합을 구하여 출력하는 프로그램을 작성하고 실행하라.\n"
      ],
      "metadata": {
        "id": "SCQI-5dayTDf"
      }
    },
    {
      "cell_type": "code",
      "source": [
        "n=100\n",
        "total = n*(n+1)/2\n",
        "print(f'1부터 100까지의 합은 {total:.0f}입니다.')"
      ],
      "metadata": {
        "colab": {
          "base_uri": "https://localhost:8080/"
        },
        "id": "mG-Scro5yWbn",
        "outputId": "349aa92b-3103-410a-9542-ca0c864279d5"
      },
      "execution_count": 3,
      "outputs": [
        {
          "output_type": "stream",
          "name": "stdout",
          "text": [
            "1부터 100까지의 합은 5050입니다.\n"
          ]
        }
      ]
    },
    {
      "cell_type": "markdown",
      "source": [
        "판매자가 딸기와 포도를 판매하고 있다. 포도 한 알의 무게는 75g이고 딸기 한 알의 무게는 113.5g이다. 사용자로부터 포도 알의 개수와 딸기의 개수를 입력 받아 총 무게를 계산하여 출력하는 프로그램을 작성하고 실행하라.\n"
      ],
      "metadata": {
        "id": "5ZQbEXf9yXBu"
      }
    },
    {
      "cell_type": "code",
      "source": [
        "포도무게 = 75\n",
        "딸기무게 = 113.5\n",
        "\n",
        "포도수 = int(input(\"포도수는?\"))\n",
        "딸기수 = int(input(\"딸기수는?\"))\n",
        "\n",
        "총무게 = 포도수*포도무게 + 딸기수*딸기무게\n",
        "print(f'총 무게는 {총무게}g입니다.')"
      ],
      "metadata": {
        "colab": {
          "base_uri": "https://localhost:8080/"
        },
        "id": "KU6cgxTfybFW",
        "outputId": "b73ba663-207d-4eb6-d0c0-21662d3f3bfd"
      },
      "execution_count": 5,
      "outputs": [
        {
          "output_type": "stream",
          "name": "stdout",
          "text": [
            "포도수는?100\n",
            "딸기수는?300\n",
            "총 무게는 41550.0g입니다.\n"
          ]
        }
      ]
    },
    {
      "cell_type": "markdown",
      "source": [
        "사용자로부터 국어, 영어, 수학 세 과목의 성적을 입력받아, 각 과목의 평균 점수와 총 평균 점수를 계산한 후, 학점을 출력하는 프로그램을 작성하세요.\n",
        " - 평균 점수는 소수점 둘째자리까지 출력합니다.\n",
        " - 총 평균 점수는 국어: 40%, 영어: 40%, 수학: 20%로 가중치를 부여하여 계산합니다.\n",
        " - 총 평균 점수가 90점 이상인 경우 \"A\", 80점 이상인 경우 \"B\", 70점 이상인 경우 \"C\", 60점 이상인 경우 \"D\", 60점 미만인 경우 \"F\"를 출력합니다.\n"
      ],
      "metadata": {
        "id": "fEdgFEGW6vDz"
      }
    },
    {
      "cell_type": "code",
      "source": [
        "국어 =  int(input(\"국어 성적을 입력하세요.\"))\n",
        "영어 =  int(input(\"영어 성적을 입력하세요.\"))\n",
        "수학 =  int(input(\"수학 성적을 입력하세요.\"))\n",
        "\n",
        "평점 = (국어*0.4 + 영어*0.4 + 수학*0.2)\n",
        "\n",
        "if 평점 >= 90:\n",
        "  학점 = \"A\"\n",
        "elif 평점 >= 80:\n",
        "  학점 = \"B\"\n",
        "elif 평점 >= 70:\n",
        "  학점 = \"C\"\n",
        "elif 평점 >= 60:\n",
        "  학점 = \"D\"\n",
        "else:\n",
        "  학점=\"F\"\n",
        "\n",
        "결과 = f\"\\n[성적결과]\\n국어:{국어}, 영어:{영어}, 수학:{수학}\\n평균점수: {평점:.2f}\\n학점:{학점}\"\n",
        "print(결과)\n",
        "\n"
      ],
      "metadata": {
        "colab": {
          "base_uri": "https://localhost:8080/"
        },
        "id": "QnxdKn9961FD",
        "outputId": "c8789767-33b3-43bd-c8da-570ee72e8b84"
      },
      "execution_count": 7,
      "outputs": [
        {
          "output_type": "stream",
          "name": "stdout",
          "text": [
            "국어 성적을 입력하세요.89\n",
            "영어 성적을 입력하세요.81\n",
            "수학 성적을 입력하세요.75\n",
            "\n",
            "[성적결과]\n",
            "국어:89, 영어:81, 수학:75\n",
            "평균점수: 83.00\n",
            "학점:B\n"
          ]
        }
      ]
    },
    {
      "cell_type": "markdown",
      "source": [
        "사용자로부터 cm 단위의 길이를 입력 받는다. 입력 값이 음수이면 \"잘못 입력하였습니다\"라는 메시지를 출력하고 양수이면 길이를 인치로 변환하여 출력하는 프로그램을 작성하라. 1인치 = 2.54cm\n"
      ],
      "metadata": {
        "id": "yzLuc5IiDvD7"
      }
    },
    {
      "cell_type": "code",
      "source": [
        "cm = float(input(\"길이를 입력하세요.(cm)\"))\n",
        "if cm < 0:\n",
        "  print(\"잘못입력하였습니다.\")\n",
        "else:\n",
        "  인치 = cm/2.54\n",
        "  print(f\"{cm}cm는 {인치:.3f}inch입니다.\")"
      ],
      "metadata": {
        "colab": {
          "base_uri": "https://localhost:8080/"
        },
        "id": "mSCyOnHqDv4M",
        "outputId": "bd3f2006-0404-4781-941d-181fdef57462"
      },
      "execution_count": 10,
      "outputs": [
        {
          "output_type": "stream",
          "name": "stdout",
          "text": [
            "길이를 입력하세요.(cm)30\n",
            "30.0cm는 11.811inch입니다.\n"
          ]
        }
      ]
    },
    {
      "cell_type": "markdown",
      "source": [
        "사용자로부터 현재 시간을 나타내는 1~12의 숫자를 입력 받는다. 또 \"am\" 혹은 \"pm\"을 입력 받고 경과 시간을 나타내는 값을 입력 받는다. 이로부터 최종 시간이 몇 시인지 출력하는 프로그램을 작성하라.\n"
      ],
      "metadata": {
        "id": "-EYpXV3LESFD"
      }
    },
    {
      "cell_type": "code",
      "source": [
        "time = int(input(\"현재 시간: \"))\n",
        "apm = input(\"am or pm\")\n",
        "over_time = int(input(\"추가 시간:\"))\n",
        "\n",
        "new_time = (time + over_time) % 12\n",
        "\n",
        "if new_time == 0:\n",
        "  new_time=12\n",
        "\n",
        "if (time + over_time) // 12 % 2 == 1:\n",
        "  if apm ==\"am\":\n",
        "    apm = \"pm\"\n",
        "  else:\n",
        "    apm = \"am\"\n",
        "\n",
        "print(f\"최종 시간: {new_time} {apm}\")"
      ],
      "metadata": {
        "id": "LyFZ-Fo4FTQj"
      },
      "execution_count": null,
      "outputs": []
    }
  ]
}