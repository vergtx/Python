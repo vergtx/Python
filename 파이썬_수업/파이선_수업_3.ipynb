{
  "nbformat": 4,
  "nbformat_minor": 0,
  "metadata": {
    "colab": {
      "provenance": []
    },
    "kernelspec": {
      "name": "python3",
      "display_name": "Python 3"
    },
    "language_info": {
      "name": "python"
    }
  },
  "cells": [
    {
      "cell_type": "markdown",
      "source": [
        "문자 'a'가 들어가는 단어를 키보드에서 입력 받아 첫 번째 줄에는 'a'까지의 문자열을 출력하고 두 번째 줄에는 나머지 문자열을 출력하는 프로그램을 작성하라."
      ],
      "metadata": {
        "id": "Z_-lG0_B-ALZ"
      }
    },
    {
      "cell_type": "code",
      "execution_count": 2,
      "metadata": {
        "colab": {
          "base_uri": "https://localhost:8080/"
        },
        "id": "7l9Y9HUi9v8K",
        "outputId": "adb5d464-76de-4b25-92e3-c1f8ca301e05"
      },
      "outputs": [
        {
          "output_type": "stream",
          "name": "stdout",
          "text": [
            "단어를 입력하세요.Buffalo\n",
            "Buffa\n",
            "lo\n"
          ]
        }
      ],
      "source": [
        "word = input(\"단어를 입력하세요.\")\n",
        "\n",
        "print(word.replace('a','a\\n'))\n",
        "\n",
        "'''index_a = word.find('a')\n",
        "\n",
        "if index_a != -1:\n",
        "  print(word[:index_a+1])\n",
        "  print(word[index_a+1:])\n",
        "else:\n",
        "  print(word)\n",
        "'''"
      ]
    },
    {
      "cell_type": "markdown",
      "source": [
        "숫자를 문자열로 변화하는 방법은 str(num)을 이용한다. str(12) -> '12'가 된다. 반대로 문자열을 숫자로 변환하려면 int(string)을 이용한다. int('12') -> 12가 된다. 이를 이용하여 1부터 1000까지의 숫자의 각 자리수의 합을 모두 구하라. 예를 들어 234 -> 2+3+4=9가 된다"
      ],
      "metadata": {
        "id": "HyTOrLoA_olA"
      }
    },
    {
      "cell_type": "code",
      "source": [
        "total = 0\n",
        "\n",
        "for num in range(1,1001):\n",
        "  digits_sum = 0\n",
        "  for digit in str(num):\n",
        "    digits_sum += int(digit)\n",
        "  \n",
        "  total += digits_sum\n",
        "\n",
        "print(total)"
      ],
      "metadata": {
        "colab": {
          "base_uri": "https://localhost:8080/"
        },
        "id": "LwdbTukh--Fw",
        "outputId": "671c64c5-88ae-452e-8cf3-b4ffcbd41754"
      },
      "execution_count": 3,
      "outputs": [
        {
          "output_type": "stream",
          "name": "stdout",
          "text": [
            "13501\n"
          ]
        }
      ]
    },
    {
      "cell_type": "code",
      "source": [
        "matrix = [\n",
        "    [1, 2, 3],\n",
        "    [4, 5, 6],\n",
        "    [7, 8, 9]\n",
        "]\n",
        "matrix[0][1]"
      ],
      "metadata": {
        "id": "H2LiPZYnDPvw"
      },
      "execution_count": null,
      "outputs": []
    },
    {
      "cell_type": "markdown",
      "source": [
        "3명 이상 친구 이름 리스트를 작성하고 다음 내용을 프로그램하시오 \n",
        "- insert()로 맨 앞에 새로운 친구 추가\n",
        "- insert()로 3번째 위치에 새로운 친구 추가\n",
        "- append()로 마지막에 친구 추가\n"
      ],
      "metadata": {
        "id": "nQ18FidTGXlP"
      }
    },
    {
      "cell_type": "code",
      "source": [
        "f = ['Alice','Bob', 'Charlie', 'Dave', 'Emma']\n",
        "\n",
        "f.insert(0, 'Frank')\n",
        "f.insert(2, 'Grace')\n",
        "f.append('Hannah')\n",
        "f"
      ],
      "metadata": {
        "colab": {
          "base_uri": "https://localhost:8080/"
        },
        "id": "BN_fuNx-GaQ2",
        "outputId": "2fcfcb69-5d5a-4df5-dde8-c43fb058f2f7"
      },
      "execution_count": 4,
      "outputs": [
        {
          "output_type": "execute_result",
          "data": {
            "text/plain": [
              "['Frank', 'Alice', 'Grace', 'Bob', 'Charlie', 'Dave', 'Emma', 'Hannah']"
            ]
          },
          "metadata": {},
          "execution_count": 4
        }
      ]
    },
    {
      "cell_type": "markdown",
      "source": [
        "리스트 [1, 2, 3]에 대해 다음과 같은 처리를 하라.\n",
        "- 두 번째 요소를 17로 수정\n",
        "- 리스트에 4, 5, 6을 추가\n",
        "- 첫 번째 요소 제거\n",
        "- 리스트를 요소 순서대로 배열하기\n",
        "- 인덱스 3에 25넣기\n"
      ],
      "metadata": {
        "id": "6X6TlxdMGwaf"
      }
    },
    {
      "cell_type": "code",
      "source": [
        "a = [1,2,3]\n",
        "a[1] = 17\n",
        "a +=[4,5,6]\n",
        "del a[0]\n",
        "a.sort()\n",
        "a.insert(3,25)\n",
        "print(a)"
      ],
      "metadata": {
        "colab": {
          "base_uri": "https://localhost:8080/"
        },
        "id": "PVkgSKCEG3H2",
        "outputId": "0d5a89e6-836b-499b-9bdb-3b68eef4c5c9"
      },
      "execution_count": 8,
      "outputs": [
        {
          "output_type": "stream",
          "name": "stdout",
          "text": [
            "[3, 4, 5, 25, 6, 17]\n"
          ]
        }
      ]
    },
    {
      "cell_type": "markdown",
      "source": [
        "for 루프를 이용하여 다음과 같은 리스트를 생성하라.\n",
        "- 0~49까지의 수로 구성되는 리스트\n",
        "- 1~50까지 수의 제곱으로 구성되는 리스트\n"
      ],
      "metadata": {
        "id": "kmA-a6CmHp-f"
      }
    },
    {
      "cell_type": "code",
      "source": [
        "a_list = []\n",
        "for i in range(0,50):\n",
        "  a_list.append(i)\n",
        "\n",
        "print(a_list)"
      ],
      "metadata": {
        "colab": {
          "base_uri": "https://localhost:8080/"
        },
        "id": "IjA9LL90HweA",
        "outputId": "dadf6bfe-4221-400c-bad3-b5a79015466c"
      },
      "execution_count": 10,
      "outputs": [
        {
          "output_type": "stream",
          "name": "stdout",
          "text": [
            "[0, 1, 2, 3, 4, 5, 6, 7, 8, 9, 10, 11, 12, 13, 14, 15, 16, 17, 18, 19, 20, 21, 22, 23, 24, 25, 26, 27, 28, 29, 30, 31, 32, 33, 34, 35, 36, 37, 38, 39, 40, 41, 42, 43, 44, 45, 46, 47, 48, 49]\n"
          ]
        }
      ]
    },
    {
      "cell_type": "code",
      "source": [
        "a_list = [i for i in range(0,50)]\n",
        "print(a_list)"
      ],
      "metadata": {
        "colab": {
          "base_uri": "https://localhost:8080/"
        },
        "id": "28lRIZuRH52v",
        "outputId": "353fb8e5-bbbd-4b14-d09f-73df712a36b5"
      },
      "execution_count": 9,
      "outputs": [
        {
          "output_type": "stream",
          "name": "stdout",
          "text": [
            "[0, 1, 2, 3, 4, 5, 6, 7, 8, 9, 10, 11, 12, 13, 14, 15, 16, 17, 18, 19, 20, 21, 22, 23, 24, 25, 26, 27, 28, 29, 30, 31, 32, 33, 34, 35, 36, 37, 38, 39, 40, 41, 42, 43, 44, 45, 46, 47, 48, 49]\n"
          ]
        }
      ]
    },
    {
      "cell_type": "code",
      "source": [
        "a_list = [i**2 for i in range(1,51)]\n",
        "print(a_list)"
      ],
      "metadata": {
        "colab": {
          "base_uri": "https://localhost:8080/"
        },
        "id": "p2H8Fs_JIQOe",
        "outputId": "882d4eb5-e05c-46ff-8d36-8f4fb2ff3d12"
      },
      "execution_count": 11,
      "outputs": [
        {
          "output_type": "stream",
          "name": "stdout",
          "text": [
            "[1, 4, 9, 16, 25, 36, 49, 64, 81, 100, 121, 144, 169, 196, 225, 256, 289, 324, 361, 400, 441, 484, 529, 576, 625, 676, 729, 784, 841, 900, 961, 1024, 1089, 1156, 1225, 1296, 1369, 1444, 1521, 1600, 1681, 1764, 1849, 1936, 2025, 2116, 2209, 2304, 2401, 2500]\n"
          ]
        }
      ]
    },
    {
      "cell_type": "markdown",
      "source": [
        "크기가 같은 두 개의 리스트 L, M을 생성하고 두 리스트의 각 요소 합으로 구성되는 새로운 리스트를 생성하라. 예를 들어 L=[1,2,3]이고 M=[4,5,6]이면 [5,7,9]인 리스트 생성\n"
      ],
      "metadata": {
        "id": "xtPO8S1VK4tt"
      }
    },
    {
      "cell_type": "code",
      "source": [
        "L, M, N = [1,2,3],[4,5,6],[]\n",
        "for i in range(len(L)):\n",
        "  N.append(L[i]+M[i])\n",
        "\n",
        "print(N)"
      ],
      "metadata": {
        "colab": {
          "base_uri": "https://localhost:8080/"
        },
        "id": "SDi37HRTK5e1",
        "outputId": "09e290d1-de8e-48c2-e8b7-a6e352475cc2"
      },
      "execution_count": 14,
      "outputs": [
        {
          "output_type": "stream",
          "name": "stdout",
          "text": [
            "[5, 7, 9]\n"
          ]
        }
      ]
    },
    {
      "cell_type": "markdown",
      "source": [
        "사용자로부터 5개의 숫자를 문자열로 입력 받아 각 숫자를 +로 연결한 문자열을 생성하라. 예를 들어 2, 5, 11, 33, 55를 입력하면 '2+5+11+33+55'를 생성하라.\n"
      ],
      "metadata": {
        "id": "-3S_ucNBLLZ9"
      }
    },
    {
      "cell_type": "code",
      "source": [
        "num_list = input(\"5개의 숫자를 입력하세요(구분자: 띄어쓰기):\").split()\n",
        "result = \"+\".join(num_list)\n",
        "print(result)"
      ],
      "metadata": {
        "colab": {
          "base_uri": "https://localhost:8080/"
        },
        "id": "J8OiEiXzLNK9",
        "outputId": "37f6ed42-e58b-44db-ca3e-573fdc2ddf1b"
      },
      "execution_count": 13,
      "outputs": [
        {
          "output_type": "stream",
          "name": "stdout",
          "text": [
            "5개의 숫자를 입력하세요(구분자: 띄어쓰기):2 5 11 33 55\n",
            "2+5+11+33+55\n"
          ]
        }
      ]
    },
    {
      "cell_type": "markdown",
      "source": [
        "다음 딕셔너리에 대해 물음에 답하라.\n",
        "1. 사용자가 월을 입력하면 해당 월에 일수를 출력하라\n",
        "2. 알파벳 순서로 모든 월을 출력하라\n",
        "3. 일수가 31인 월을 모두 출력하라\n",
        "4. 월의 일수를 기준으로 오름차순으로 (key-value) 쌍을 출력하라\n",
        "5. 사용자가 월을 3자리만 입력하면 월의 일수를 출력하라.(Jan, Feb 등)\n"
      ],
      "metadata": {
        "id": "qk60jeKbQ7W8"
      }
    },
    {
      "cell_type": "code",
      "source": [
        "days = {'January':31, 'February':28, 'March':31, 'April':30,'May':31, 'June':30, 'July':31, 'August':31,'September':30, 'October':31, 'November':30, 'December':31}\n",
        "month  = input(\"월을 입력하시오.\")\n",
        "print(days[month.title()])\n"
      ],
      "metadata": {
        "colab": {
          "base_uri": "https://localhost:8080/"
        },
        "id": "E2e72-VxQ7vr",
        "outputId": "05c12510-0936-44dd-b287-d2fdebf68e30"
      },
      "execution_count": 16,
      "outputs": [
        {
          "output_type": "stream",
          "name": "stdout",
          "text": [
            "월을 입력하시오.march\n",
            "31\n"
          ]
        }
      ]
    },
    {
      "cell_type": "code",
      "source": [
        "print(\"월을 알파벳 순으로 출력\")\n",
        "days_key = days.keys()\n",
        "print(sorted(days_key))"
      ],
      "metadata": {
        "colab": {
          "base_uri": "https://localhost:8080/"
        },
        "id": "n77NHqb8Rk98",
        "outputId": "eec2c5c7-4e41-4648-a283-d6eefa464487"
      },
      "execution_count": 17,
      "outputs": [
        {
          "output_type": "stream",
          "name": "stdout",
          "text": [
            "월을 알파벳 순으로 출력\n",
            "['April', 'August', 'December', 'February', 'January', 'July', 'June', 'March', 'May', 'November', 'October', 'September']\n"
          ]
        }
      ]
    },
    {
      "cell_type": "code",
      "source": [
        "print(\"일수가 31인 월들\")\n",
        "for mon in days:\n",
        "  if days[mon] == 31:\n",
        "    print(mon, end=\" \")\n",
        "\n",
        "print()"
      ],
      "metadata": {
        "colab": {
          "base_uri": "https://localhost:8080/"
        },
        "id": "J6t1IVkSSOmU",
        "outputId": "e4a9a324-2d2e-40ee-9492-8c9986ff4b4d"
      },
      "execution_count": 19,
      "outputs": [
        {
          "output_type": "stream",
          "name": "stdout",
          "text": [
            "일수가 31인 월들\n",
            "January March May July August October December \n"
          ]
        }
      ]
    },
    {
      "cell_type": "code",
      "source": [
        "print(\"(key-value) 쌍을 일수를 기준으로 오름차순 정렬해서 출력\")\n",
        "days_item = days.items()\n",
        "r_days = [(day, month) for (month, day) in days_item]\n",
        "r_days.sort()\n",
        "days2 = [(month, day) for (day, month) in r_days]\n",
        "print(days2)"
      ],
      "metadata": {
        "colab": {
          "base_uri": "https://localhost:8080/"
        },
        "id": "dl07vr1yTV-r",
        "outputId": "97dab813-0a9f-4d71-bebc-f26fa4a0938d"
      },
      "execution_count": 28,
      "outputs": [
        {
          "output_type": "stream",
          "name": "stdout",
          "text": [
            "(key-value) 쌍을 일수를 기준으로 오름차순 정렬해서 출력\n",
            "[('February', 28), ('April', 30), ('June', 30), ('November', 30), ('September', 30), ('August', 31), ('December', 31), ('January', 31), ('July', 31), ('March', 31), ('May', 31), ('October', 31)]\n"
          ]
        }
      ]
    },
    {
      "cell_type": "code",
      "source": [
        "print(\"사용자가 월을 3자리만 입력하면 월의 일수를 출력하라.(Jan, Feb 등)\")\n",
        "month = input(\"월의 이름을 입력하세요(3 char):\")\n",
        "for mon in days:\n",
        "  if mon[0:3] == month.title():\n",
        "    print(days[mon])"
      ],
      "metadata": {
        "colab": {
          "base_uri": "https://localhost:8080/"
        },
        "id": "1r9RNDS1Vn6r",
        "outputId": "002fcec3-c10a-4319-eb2d-ece72fa5eb01"
      },
      "execution_count": 29,
      "outputs": [
        {
          "output_type": "stream",
          "name": "stdout",
          "text": [
            "사용자가 월을 3자리만 입력하면 월의 일수를 출력하라.(Jan, Feb 등)\n",
            "월의 이름을 입력하세요(3 char):jan\n",
            "31\n"
          ]
        }
      ]
    },
    {
      "cell_type": "markdown",
      "source": [
        "다음 딕셔너리에 대해 물음에 답하라.\n",
        "- 전화번호가 8로 끝나는 사용자 이름을 출력하라\n",
        "- 이메일이 없는 사용자 이름을 출력하라\n",
        "- 사용자 이름을 입력하면 전화번호, 이메일을 출력하라.\n",
        "  - 이름이 없으면 '이름이 없습니다'라는 메시지를 출력하라"
      ],
      "metadata": {
        "id": "_rS5hloEXDqj"
      }
    },
    {
      "cell_type": "code",
      "source": [
        "data=[{'name':'Todd', 'phone':'555-1414', 'email':'todd@mail.net'},{'name':'Helga', 'phone':'555-1618', 'email':'helga@mail.net'},{'name':'Princess', 'phone':'555-3141', 'email':''},{'name':'LJ', 'phone':'555-2718', 'email':'lj@mail.net'}]\n",
        "for people in data:\n",
        "  if people['phone'][7]=='8':\n",
        "    print(people['name'])\n",
        "print(\"=\"*30)\n",
        "\n",
        "for people in data:\n",
        "  if people['email']=='':\n",
        "    print(people['name'])\n",
        "print(\"=\"*30)\n",
        "\n",
        "s_name = input(\"찾을 이름을 입력하세요.\")\n",
        "flag = 1\n",
        "\n",
        "for people in data:\n",
        "  if people['name'] == s_name:\n",
        "    print(people['phone'], people['email'])\n",
        "    flag = 0\n",
        "    \n",
        "if flag ==1:\n",
        "  print(\"없는 이름입니다.\")\n"
      ],
      "metadata": {
        "colab": {
          "base_uri": "https://localhost:8080/"
        },
        "id": "JaO3Qz5jXQS7",
        "outputId": "e1e7386f-361c-4958-a402-649ff0c41579"
      },
      "execution_count": 35,
      "outputs": [
        {
          "output_type": "stream",
          "name": "stdout",
          "text": [
            "Helga\n",
            "LJ\n",
            "==============================\n",
            "Princess\n",
            "==============================\n",
            "찾을 이름을 입력하세요.Todd\n",
            "555-1414 todd@mail.net\n"
          ]
        }
      ]
    },
    {
      "cell_type": "markdown",
      "source": [
        "1부터 45까지의 수 중에서 6개를 선택하여 로또 번호를 만드는 프로그램\n"
      ],
      "metadata": {
        "id": "mk7X_Rnve-eR"
      }
    },
    {
      "cell_type": "code",
      "source": [
        "import random\n",
        "\n",
        "pick = set()\n",
        "\n",
        "while len(pick)<6:\n",
        "  n = random.randint(1,45)\n",
        "  pick.add(n)\n",
        "\n",
        "#print(pick)\n",
        "print(sorted(pick))"
      ],
      "metadata": {
        "colab": {
          "base_uri": "https://localhost:8080/"
        },
        "id": "H1gq0m52e_CZ",
        "outputId": "9c836628-f898-4050-f183-23209c3f1160"
      },
      "execution_count": 43,
      "outputs": [
        {
          "output_type": "stream",
          "name": "stdout",
          "text": [
            "[5, 16, 22, 24, 30, 40]\n"
          ]
        }
      ]
    },
    {
      "cell_type": "markdown",
      "source": [
        "학생들의 성적을 딕셔너리로 저장하고, 성적 평균을 계산하는 프로그램을 작성해보세요.\n"
      ],
      "metadata": {
        "id": "pZYdYQLxgf3I"
      }
    },
    {
      "cell_type": "code",
      "source": [
        "data = {\n",
        "    \"Alice\": [85, 90, 95],\n",
        "    \"Bob\": [75, 80, 85],\n",
        "    \"Charlie\": [95, 95, 95]\n",
        "}\n",
        "print(\"평균 점수\")\n",
        "for name, grade_list in data.items():\n",
        "  avg = sum(grade_list)/len(grade_list)\n",
        "  print(f'{name}:{avg}')\n"
      ],
      "metadata": {
        "colab": {
          "base_uri": "https://localhost:8080/"
        },
        "id": "lMIrV9BBggiY",
        "outputId": "60b49a92-fa22-4283-ef32-086bffbd7d28"
      },
      "execution_count": 44,
      "outputs": [
        {
          "output_type": "stream",
          "name": "stdout",
          "text": [
            "평균 점수\n",
            "Alice:90.0\n",
            "Bob:80.0\n",
            "Charlie:95.0\n"
          ]
        }
      ]
    },
    {
      "cell_type": "markdown",
      "source": [
        "숫자들이 들어있는 리스트에서 중복된 숫자를 제거하고, 남은 숫자들의 합을 계산하는 프로그램을 작성해보세요.\n"
      ],
      "metadata": {
        "id": "6K0fyqc9hnnR"
      }
    },
    {
      "cell_type": "code",
      "source": [
        "total = sum(set([1, 2, 2, 3, 3, 3, 4, 4, 5]))\n",
        "print(total)"
      ],
      "metadata": {
        "colab": {
          "base_uri": "https://localhost:8080/"
        },
        "id": "zXSCkJ04hpnx",
        "outputId": "6f179fc2-2ee9-4e86-9619-4514ebbeac3f"
      },
      "execution_count": 45,
      "outputs": [
        {
          "output_type": "stream",
          "name": "stdout",
          "text": [
            "15\n"
          ]
        }
      ]
    },
    {
      "cell_type": "markdown",
      "source": [
        "주어진 문자열에서 각 알파벳의 빈도수를 구하는 프로그램을 작성하시오.\n"
      ],
      "metadata": {
        "id": "4Vy-yOL8ikeo"
      }
    },
    {
      "cell_type": "code",
      "source": [
        "text = input(\"문장을 넣어주세요.\")\n",
        "\n",
        "freq_dict = {}\n",
        "for char in text:\n",
        "  if char not in freq_dict:\n",
        "    freq_dict[char] = 1\n",
        "  else:\n",
        "    freq_dict[char] += 1\n",
        "\n",
        "print(freq_dict)"
      ],
      "metadata": {
        "colab": {
          "base_uri": "https://localhost:8080/"
        },
        "id": "U_xw4la7imU5",
        "outputId": "7710e48b-ffb9-48cc-9d82-48829810221a"
      },
      "execution_count": 48,
      "outputs": [
        {
          "output_type": "stream",
          "name": "stdout",
          "text": [
            "문장을 넣어주세요.asdfasfdqkwefskf sdjflk fd ads\n",
            "{'a': 3, 's': 5, 'd': 5, 'f': 6, 'q': 1, 'k': 3, 'w': 1, 'e': 1, ' ': 3, 'j': 1, 'l': 1}\n"
          ]
        }
      ]
    },
    {
      "cell_type": "markdown",
      "source": [
        "두 개의 리스트가 주어졌을 때, 두 리스트에 공통으로 포함된 요소를 모두 담은 리스트를 반환하는 프로그램을 작성하시오.\n"
      ],
      "metadata": {
        "id": "qbtJ-GLTlDFA"
      }
    },
    {
      "cell_type": "code",
      "source": [
        "set1 = set([1, 2, 3, 4, 5])\n",
        "set2 = set([2, 4, 6, 8, 10])\n",
        "result = print(list(set1 & set2))\n",
        "print(result)"
      ],
      "metadata": {
        "colab": {
          "base_uri": "https://localhost:8080/"
        },
        "id": "8tOe4SCXlFzQ",
        "outputId": "bd4f3932-74c1-488e-b47b-a2033bb72476"
      },
      "execution_count": 49,
      "outputs": [
        {
          "output_type": "stream",
          "name": "stdout",
          "text": [
            "[2, 4]\n",
            "None\n"
          ]
        }
      ]
    },
    {
      "cell_type": "markdown",
      "source": [
        "1~n까지의 합을 계산하는 함수\n"
      ],
      "metadata": {
        "id": "Zz2bgDHsqcr_"
      }
    },
    {
      "cell_type": "code",
      "source": [
        "def sum_(n):\n",
        "  total = 0\n",
        "  for i in range(1,n+1):\n",
        "    total += i\n",
        "  return total\n",
        "\n",
        "sum_(50)"
      ],
      "metadata": {
        "colab": {
          "base_uri": "https://localhost:8080/"
        },
        "id": "rzDU5RQVqdXn",
        "outputId": "38564af8-2470-4bfe-9b60-20ad02a777ee"
      },
      "execution_count": 51,
      "outputs": [
        {
          "output_type": "execute_result",
          "data": {
            "text/plain": [
              "1275"
            ]
          },
          "metadata": {},
          "execution_count": 51
        }
      ]
    }
  ]
}