{
  "nbformat": 4,
  "nbformat_minor": 0,
  "metadata": {
    "colab": {
      "provenance": []
    },
    "kernelspec": {
      "name": "python3",
      "display_name": "Python 3"
    },
    "language_info": {
      "name": "python"
    }
  },
  "cells": [
    {
      "cell_type": "code",
      "execution_count": 1,
      "metadata": {
        "colab": {
          "base_uri": "https://localhost:8080/"
        },
        "id": "AT5bdU-LyyVO",
        "outputId": "770f9195-afd5-42ea-badc-f3bae0dee97d"
      },
      "outputs": [
        {
          "output_type": "stream",
          "name": "stdout",
          "text": [
            "**\n",
            "**\n",
            "**\n"
          ]
        }
      ],
      "source": [
        "def print_box(n, m):\n",
        "  for i in range(m):\n",
        "    for j in range(n):\n",
        "      print(\"*\", end=\"\")\n",
        "    print()\n",
        "\n",
        "print_box(2,3)"
      ]
    },
    {
      "cell_type": "code",
      "source": [
        "def digit_sum(n):\n",
        "  sum = 0\n",
        "  for digit in str(n):\n",
        "    sum += int(digit)\n",
        "  return sum\n",
        "\n",
        "digit_sum(345)"
      ],
      "metadata": {
        "colab": {
          "base_uri": "https://localhost:8080/"
        },
        "id": "spxAZ03d2GT3",
        "outputId": "059b30e6-8bf0-4fa5-914b-6624d16d309f"
      },
      "execution_count": 2,
      "outputs": [
        {
          "output_type": "execute_result",
          "data": {
            "text/plain": [
              "12"
            ]
          },
          "metadata": {},
          "execution_count": 2
        }
      ]
    },
    {
      "cell_type": "code",
      "source": [
        "import math\n",
        "\n",
        "def str_comp(str1, str2):\n",
        "  length = min(len(str1), len(str2))\n",
        "  for i in range(length):\n",
        "    if str1[i] != str2[i]:\n",
        "      if i !=0:\n",
        "        return i\n",
        "  return -1\n",
        "\n",
        "str_comp('abcf', 'abbd')"
      ],
      "metadata": {
        "colab": {
          "base_uri": "https://localhost:8080/"
        },
        "id": "S_NWDvAp2hlu",
        "outputId": "62e84306-2d81-464d-ad5f-1073344d3f39"
      },
      "execution_count": 5,
      "outputs": [
        {
          "output_type": "execute_result",
          "data": {
            "text/plain": [
              "2"
            ]
          },
          "metadata": {},
          "execution_count": 5
        }
      ]
    },
    {
      "cell_type": "code",
      "source": [
        "def find_char(s, c):\n",
        "  res = []\n",
        "  for i in range(len(s)):\n",
        "    if s[i]==c:\n",
        "      res.append(i)\n",
        "  return res\n",
        "\n",
        "find_char('aabcbcdb', 'b')"
      ],
      "metadata": {
        "colab": {
          "base_uri": "https://localhost:8080/"
        },
        "id": "Ba7IFe1w3jen",
        "outputId": "06b67bf5-222b-4d82-cb60-17824c8cf16e"
      },
      "execution_count": 7,
      "outputs": [
        {
          "output_type": "execute_result",
          "data": {
            "text/plain": [
              "[2, 4, 7]"
            ]
          },
          "metadata": {},
          "execution_count": 7
        }
      ]
    },
    {
      "cell_type": "code",
      "source": [
        "def sum_n(n):\n",
        "  if n==1:\n",
        "    return 1\n",
        "  else:\n",
        "    return n + sum_n(n-1)\n",
        "\n",
        "sum_n(100)"
      ],
      "metadata": {
        "colab": {
          "base_uri": "https://localhost:8080/"
        },
        "id": "rSXGDscV39WA",
        "outputId": "e8d6c86a-7800-4761-d5db-7b99246b7f46"
      },
      "execution_count": 9,
      "outputs": [
        {
          "output_type": "execute_result",
          "data": {
            "text/plain": [
              "5050"
            ]
          },
          "metadata": {},
          "execution_count": 9
        }
      ]
    },
    {
      "cell_type": "code",
      "source": [
        "names = ['Alice', 'Bob', 'Charlie']\n",
        "ages = [24, 32, 28]\n",
        "\n",
        "eval(repr(dict(list(zip(names, ages)))))"
      ],
      "metadata": {
        "colab": {
          "base_uri": "https://localhost:8080/"
        },
        "id": "B_FkH5Y7CzEl",
        "outputId": "4b58dbcf-63c1-4555-ba9a-7ffbfbff37ee"
      },
      "execution_count": 14,
      "outputs": [
        {
          "output_type": "execute_result",
          "data": {
            "text/plain": [
              "{'Alice': 24, 'Bob': 32, 'Charlie': 28}"
            ]
          },
          "metadata": {},
          "execution_count": 14
        }
      ]
    },
    {
      "cell_type": "markdown",
      "source": [
        "enumerate() 내장 함수를 이용하여 사용자가 입력한 문자열에서 'a' 문자의 위치를 모두 찾아 출력하는 프로그램을 작성하라. 'a'가 없으면 \"a가 없습니다'라는 메시지를 출력하라.\n"
      ],
      "metadata": {
        "id": "v9LxPzdgD4gH"
      }
    },
    {
      "cell_type": "code",
      "source": [
        "msg = input(\"메시지를 입력하라.\")\n",
        "\n",
        "flag = 0\n",
        "\n",
        "for i, ch in enumerate(msg):\n",
        "  if ch == \"a\":\n",
        "    print(i)\n",
        "    flag = 1\n",
        "\n",
        "if flag == 0:\n",
        "  print(\"a가 없습니다.\")"
      ],
      "metadata": {
        "colab": {
          "base_uri": "https://localhost:8080/"
        },
        "id": "5dbgmtsvD86d",
        "outputId": "7378ad1c-0f67-4d07-ec30-f2c203339057"
      },
      "execution_count": 15,
      "outputs": [
        {
          "output_type": "stream",
          "name": "stdout",
          "text": [
            "메시지를 입력하라.bdfjhad\n",
            "5\n"
          ]
        }
      ]
    },
    {
      "cell_type": "markdown",
      "source": [
        "\n",
        "두 수의 합(sum), 차(sub), 곱(mul), 나누기(div)를 수행하는 함수를 각각 정의하라. 딕셔너리를 이용하여 사용자가 '1'을 입력하면 sum()을 호출하고, '2'를 입력하면 sub(), '3'을 입력하면 mul(), '4'를 입력하면 div() 함수를 호출하여 두 수의 연산을 수행하는 프로그램을 작성하라."
      ],
      "metadata": {
        "id": "TSvBs_3XEYeG"
      }
    },
    {
      "cell_type": "code",
      "source": [
        "def sum(a, b):\n",
        "  return a+b\n",
        "\n",
        "def sub(a, b):\n",
        "  return a-b\n",
        "\n",
        "def mul(a, b):\n",
        "  return a*b\n",
        "\n",
        "def div(a, b):\n",
        "  return a/b\n",
        "\n",
        "table = {'1':sum, '2':sub, '3':mul, '4':div}\n",
        "op = input(\"하고 싶은 연산을 입력하세요.(1,2,3,4)\")\n",
        "func = table[op]\n",
        "print(func(2,3))\n"
      ],
      "metadata": {
        "id": "z_wcy2rBEegd"
      },
      "execution_count": null,
      "outputs": []
    },
    {
      "cell_type": "markdown",
      "source": [
        "다음과 같이 구성되는 문자열을 구분 문자(&, =)로 분리하여 딕셔너리로 반환하는 함수 작성 예: 문자열 'led=on&motor=off&switch=off'이고 구분 문자가 '&', '='일 때 {'led':'on', 'motor':'off', 'switch':off'}반환. Hint: dict([['a','b'], ['c', 'd']]) -> {'a': 'b', 'c': 'd'}"
      ],
      "metadata": {
        "id": "nWzRA53xFcVF"
      }
    },
    {
      "cell_type": "code",
      "source": [
        "def query_parse(txt):\n",
        "  items = txt.split('&')\n",
        "  print(items)\n",
        "  temp = []\n",
        "  for item in items:\n",
        "    temp.append(item.split('='))\n",
        "\n",
        "  return dict(temp)\n",
        "\n",
        "text = 'led=on&motor=off&switch=off'\n",
        "print(query_parse(text))"
      ],
      "metadata": {
        "colab": {
          "base_uri": "https://localhost:8080/"
        },
        "id": "KerfBpiOF92V",
        "outputId": "7c3a5c0a-d920-410f-98f6-567e6e938fbf"
      },
      "execution_count": 20,
      "outputs": [
        {
          "output_type": "stream",
          "name": "stdout",
          "text": [
            "['led=on', 'motor=off', 'switch=off']\n",
            "{'led': 'on', 'motor': 'off', 'switch': 'off'}\n"
          ]
        }
      ]
    },
    {
      "cell_type": "markdown",
      "source": [
        "Deposit 클래스를 생성하라. "
      ],
      "metadata": {
        "id": "4SsqQ_7NMuoi"
      }
    },
    {
      "cell_type": "code",
      "source": [
        "class Deposit:\n",
        "  def __init__(self, init, inter, n):\n",
        "    self.initial = init\n",
        "    self.interest = inter\n",
        "    self.n = n\n",
        "  \n",
        "  def profit(self):\n",
        "    return int(self.initial *(1+self.interest)**self.n)\n",
        "  \n",
        "deposit = Deposit(1000000, 0.035, 7)\n",
        "deposit.profit()"
      ],
      "metadata": {
        "colab": {
          "base_uri": "https://localhost:8080/"
        },
        "id": "uECN8jotgNZn",
        "outputId": "0cfd553d-2057-476f-e604-a3090c83a6dc"
      },
      "execution_count": 21,
      "outputs": [
        {
          "output_type": "execute_result",
          "data": {
            "text/plain": [
              "1272279"
            ]
          },
          "metadata": {},
          "execution_count": 21
        }
      ]
    },
    {
      "cell_type": "markdown",
      "source": [
        "예제의 Teacher 클래스에서 People 클래스의 __init__()를 호출하지 않고 부모 클래스의 age, name 인스턴스 변수를 이용할 수 있는가? 이용할 수 없다면 그 이유는? 이용할 수 있게 하려면 프로그램을 어떻게 수정해야 하는가?"
      ],
      "metadata": {
        "id": "7Y814pF4jpbH"
      }
    },
    {
      "cell_type": "code",
      "source": [
        "class People :\n",
        "    def __init__(self, age=0, name=None):\n",
        "        self.__age = age\n",
        "        self.__name = name\n",
        "\n",
        "    def introMe(self):\n",
        "        print(\"Name :\", self.__name, \"age :\", str(self.__age))\n",
        "      \n",
        "    def get_age(self):\n",
        "      return self.__age\n",
        "    \n",
        "    def set_age(self, age):\n",
        "      if age > 0 :\n",
        "        self.__age = age\n",
        "      else:\n",
        "        print(\"잘못된 나이입니다.\")\n",
        "    \n",
        "    def get_name(self):\n",
        "      return self.__name\n",
        "    \n",
        "    def set_name(self, name):\n",
        "      self.__name = name\n",
        "\n",
        "class Teacher(People) :\n",
        "    def __init__(self, age=0, name=None, school=None) :\n",
        "        super().__init__(age, name)\n",
        "        self.school = school\n",
        "\n",
        "    def showSchool(self):\n",
        "        print(\"My School is \", self.school)\n",
        "\n",
        "t = Teacher(35, \"Kim\", \"High school\")\n",
        "t.introMe()\n",
        "t.set_name(\"Lee\")\n",
        "t.set_age(20)\n",
        "t.introMe()\n",
        "t.showSchool()"
      ],
      "metadata": {
        "colab": {
          "base_uri": "https://localhost:8080/"
        },
        "id": "GkolXzeyjqK3",
        "outputId": "c9720326-3d08-487a-9d3d-046417703f92"
      },
      "execution_count": 23,
      "outputs": [
        {
          "output_type": "stream",
          "name": "stdout",
          "text": [
            "Name : Kim age : 35\n",
            "Name : Lee age : 20\n",
            "My School is  High school\n"
          ]
        }
      ]
    },
    {
      "cell_type": "markdown",
      "source": [
        "다음 Person 클래스를 상속 받는 Employee 클래스를 정의하라. Employee 클래스에 employeeID 인스턴스 변수를 추가하고 getID() 메소드를 정의하라. getID() 메소드는 employeeID를 반환하는 메소드이다.Employee 클래스를 이용하여 Employee(\"동양\", 65, 2019)로 생성된 객체의 이름, 나이, ID를 출력하라."
      ],
      "metadata": {
        "id": "ArHqzyIloQ6O"
      }
    },
    {
      "cell_type": "code",
      "source": [
        "class Person:\n",
        "    def __init__(self, name, age): \n",
        "        self.name = name \n",
        "        self.age = age \n",
        "\n",
        "    def getName(self): \n",
        "        return self.name\n",
        "\n",
        "    def getAge(self): \n",
        "        return self.age\n",
        "\n",
        "class Employee(Person):\n",
        "  def __init__(self, name, age, employeeID):\n",
        "    super().__init__(name, age)\n",
        "    self.employeeID = employeeID\n",
        "  \n",
        "  def getID(self):\n",
        "    return self.employeeID\n",
        "\n",
        "emp = Employee(\"동양\", 65, 2019)\n",
        "print(emp.getName())\n",
        "print(emp.getAge())\n",
        "print(emp.getID())"
      ],
      "metadata": {
        "colab": {
          "base_uri": "https://localhost:8080/"
        },
        "id": "VfTj41PwoSO1",
        "outputId": "48b757e0-061f-46c8-fa3e-78a6c6f49ba6"
      },
      "execution_count": 26,
      "outputs": [
        {
          "output_type": "stream",
          "name": "stdout",
          "text": [
            "동양\n",
            "65\n",
            "2019\n"
          ]
        }
      ]
    },
    {
      "cell_type": "markdown",
      "source": [
        "학생 정보를 관리하는 프로그램을 만드세요."
      ],
      "metadata": {
        "id": "7Qi-MMxyv7qd"
      }
    },
    {
      "cell_type": "code",
      "source": [
        "class Student:\n",
        "  def __init__(self, name, student_id, year, major, avg_score):\n",
        "    #각 학생별 초기값 설정\n",
        "    self.name = name\n",
        "    self.student_id = student_id\n",
        "    self.year = year\n",
        "    self.major = major\n",
        "    self.avg_score = avg_score\n",
        "  \n",
        "  def get_info(self):\n",
        "    #학생의 정보를 문자열로 만들어 반환\n",
        "    return f\"이름:{self.name}, 학번:{self.student_id}, 학년:{self.year}, 전공:{self.major}, 평점:{self.avg_score}\"\n",
        "  \n",
        "class StudentManager:\n",
        "  def __init__(self):\n",
        "    self.student_list = []\n",
        "\n",
        "  def add_student(self, student):\n",
        "    #매개변수로 입력되는 Student 인스턴스를 student_list에 추가\n",
        "    print(f\"{student.name} 학생 추가\")\n",
        "    self.student_list.append(student)\n",
        "  \n",
        "  def remove_student(self, student_id):\n",
        "    # 순차 탐색으로 student_list의 Student 인스턴스의 학번을 조회해서 학생을 찾고,\n",
        "    # 찾아지면 student_list에서 삭제\n",
        "    for student in self.student_list:\n",
        "      if student.student_id == student_id:\n",
        "        self.student_list.remove(student)\n",
        "        print(f\"{student_id}번의 {student.name}학생이 삭제되었습니다.\")\n",
        "        return\n",
        "    print(f\"{student_id}학번을 가진 학생이 존재하지 않습니다.\")\n",
        "  \n",
        "  def find_student(self, student_id):\n",
        "    # 순차 탐색으로 student_list에서 같은 학번의 Student인스턴스를 찾기\n",
        "    for student in self.student_list:\n",
        "      if student.student_id==student_id:\n",
        "        print(f\"학번 {student_id}는 {student.name}학생입니다.\")\n",
        "        return\n",
        "    print(f\"{student_id}학번을 가진 학생이 존재하지 않습니다.\")\n",
        "\n",
        "  def show_all_students(self):\n",
        "    # student_list내의 Student 인스턴스들의 get_info를 통해 받아온 학생정보를 출력\n",
        "    print(\"<모든 학생 정보>\")\n",
        "    for student in self.student_list:\n",
        "      print(student.get_info())\n",
        "\n",
        "\n",
        "student_manager = StudentManager()\n",
        "student1 = Student(\"홍길동\", \"20230001\", 2, \"컴퓨터공학\", 90.5)\n",
        "student2 = Student(\"김철수\", \"20230002\", 3, \"전자공학\", 85.2)\n",
        "student3 = Student(\"이영희\", \"20230003\", 1, \"수학\", 92.8)\n",
        "\n",
        "student_manager.add_student(student1)\n",
        "student_manager.add_student(student2)\n",
        "student_manager.add_student(student3)\n",
        "\n",
        "student_manager.remove_student(\"20230002\")\n",
        "\n",
        "student_manager.find_student(\"20230001\")\n",
        "\n",
        "student_manager.show_all_students()"
      ],
      "metadata": {
        "colab": {
          "base_uri": "https://localhost:8080/"
        },
        "id": "UwL4I-Ppv8JU",
        "outputId": "0f76e538-874f-4af4-9569-97b860cadb27"
      },
      "execution_count": 31,
      "outputs": [
        {
          "output_type": "stream",
          "name": "stdout",
          "text": [
            "홍길동 학생 추가\n",
            "김철수 학생 추가\n",
            "이영희 학생 추가\n",
            "20230002번의 김철수학생이 삭제되었습니다.\n",
            "학번 20230001는 홍길동학생입니다.\n",
            "<모든 학생 정보>\n",
            "이름:홍길동, 학번:20230001, 학년:2, 전공:컴퓨터공학, 평점:90.5\n",
            "이름:이영희, 학번:20230003, 학년:1, 전공:수학, 평점:92.8\n"
          ]
        }
      ]
    },
    {
      "cell_type": "code",
      "source": [
        "import datetime, calendar, numpy, pandas, random, os\n",
        "\n",
        "os.getcwd()"
      ],
      "metadata": {
        "colab": {
          "base_uri": "https://localhost:8080/",
          "height": 36
        },
        "id": "u3SNfBit6MtC",
        "outputId": "e2f73bbf-b305-49eb-8cc2-c1bfce81a1b0"
      },
      "execution_count": 37,
      "outputs": [
        {
          "output_type": "execute_result",
          "data": {
            "text/plain": [
              "'/content'"
            ],
            "application/vnd.google.colaboratory.intrinsic+json": {
              "type": "string"
            }
          },
          "metadata": {},
          "execution_count": 37
        }
      ]
    }
  ]
}