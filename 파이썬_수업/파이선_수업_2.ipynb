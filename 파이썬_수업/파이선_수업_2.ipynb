{
  "nbformat": 4,
  "nbformat_minor": 0,
  "metadata": {
    "colab": {
      "provenance": []
    },
    "kernelspec": {
      "name": "python3",
      "display_name": "Python 3"
    },
    "language_info": {
      "name": "python"
    }
  },
  "cells": [
    {
      "cell_type": "code",
      "execution_count": 5,
      "metadata": {
        "colab": {
          "base_uri": "https://localhost:8080/"
        },
        "id": "5CFZQ900fski",
        "outputId": "b93697b4-6410-4430-c911-1531aa1e3e5b"
      },
      "outputs": [
        {
          "output_type": "execute_result",
          "data": {
            "text/plain": [
              "[1, 2, 3, 4, 5, 6, 7, 8, 9]"
            ]
          },
          "metadata": {},
          "execution_count": 5
        }
      ],
      "source": [
        "list(range(1,10))"
      ]
    },
    {
      "cell_type": "code",
      "source": [
        "type([1,2,3,4])"
      ],
      "metadata": {
        "colab": {
          "base_uri": "https://localhost:8080/"
        },
        "id": "HR64yN0NjcfO",
        "outputId": "8d106c47-30a5-41f5-8657-e803fb0de6ca"
      },
      "execution_count": 4,
      "outputs": [
        {
          "output_type": "execute_result",
          "data": {
            "text/plain": [
              "list"
            ]
          },
          "metadata": {},
          "execution_count": 4
        }
      ]
    },
    {
      "cell_type": "markdown",
      "source": [
        "사용자로부터 양의 정수 n을 입력받아, 1부터 n까지의 자연수 중에서 3의 배수와 5의 배수의 합을 구하고, 이를 출력하는 프로그램을 작성하세요.\n",
        "- 사용자로부터 입력받는 정수 n은 1 이상의 양의 정수입니다.\n",
        "- 자연수 1부터 n까지의 숫자 중에서 3의 배수 또는 5의 배수인 숫자들의 합을 구합니다.\n",
        "- 결과값은 정수형으로 출력합니다.\n"
      ],
      "metadata": {
        "id": "UwOFMykkkz3I"
      }
    },
    {
      "cell_type": "code",
      "source": [
        "n = int(input(\"[3의 배수와 5의 배수의 합구하기]\\n 양의 정수 n을 입력하세요.\"))\n",
        "\n",
        "sum = 0\n",
        "for i in range(1, n+1):\n",
        "  if i % 3 == 0 or i % 5 == 0:\n",
        "    sum+=i\n",
        "\n",
        "output= f\"1부터 {n}까지의 자연수 중에서 3과 5의 배수의 합:{sum}\"\n",
        "print(output)"
      ],
      "metadata": {
        "colab": {
          "base_uri": "https://localhost:8080/"
        },
        "id": "lQIE1tLak7Q_",
        "outputId": "d7a4ff50-922b-49df-8f13-d277121bfd1c"
      },
      "execution_count": 8,
      "outputs": [
        {
          "output_type": "stream",
          "name": "stdout",
          "text": [
            "[3의 배수와 5의 배수의 합구하기]\n",
            " 양의 정수 n을 입력하세요.100\n",
            "1부터 100까지의 자연수 중에서 3과 5의 배수의 합:2418\n"
          ]
        }
      ]
    },
    {
      "cell_type": "markdown",
      "source": [
        "사용자로부터 5개의 정수형 숫자를 입력받아, 입력받은 숫자들 중에서 최댓값과 최솟값을 찾고, 이를 출력하는 프로그램을 작성하세요.\n",
        "- 입력받은 숫자는 1 이상 100 이하의 자연수입니다.\n",
        "- 입력받은 숫자 중 중복된 숫자가 있을 수 있습니다.\n"
      ],
      "metadata": {
        "id": "EWNF3DwVlzm3"
      }
    },
    {
      "cell_type": "code",
      "source": [
        "max_num = 0\n",
        "min_num = 100\n",
        "\n",
        "for i in range(5):\n",
        "  num = int(input(f\"{i+1}번째 숫자를 입력하세요.\"))\n",
        "\n",
        "  if num > max_num:\n",
        "    max_num = num\n",
        "  \n",
        "  if num < min_num:\n",
        "    min_num = num\n",
        "  \n",
        "output = f\"Max num: {max_num}, Min num:{min_num}\"\n",
        "print(output)"
      ],
      "metadata": {
        "colab": {
          "base_uri": "https://localhost:8080/"
        },
        "id": "nQaJUMy8mVqP",
        "outputId": "d4c4884c-a318-42de-c644-91da1ca0e30a"
      },
      "execution_count": 9,
      "outputs": [
        {
          "output_type": "stream",
          "name": "stdout",
          "text": [
            "1번째 숫자를 입력하세요.5\n",
            "2번째 숫자를 입력하세요.87\n",
            "3번째 숫자를 입력하세요.54\n",
            "4번째 숫자를 입력하세요.20\n",
            "5번째 숫자를 입력하세요.43\n",
            "Max num: 87, Min num:5\n"
          ]
        }
      ]
    },
    {
      "cell_type": "markdown",
      "source": [
        "사용자로부터 정수형 숫자를 입력받아, 입력받은 숫자들의 합이 100보다 작을 때까지 숫자를 계속 입력받고, 입력받은 숫자들의 합을 출력하는 프로그램을 작성하세요.\n",
        "- 입력받은 숫자는 1 이상 100 이하의 자연수입니다.\n"
      ],
      "metadata": {
        "id": "ScF7hvMZolJ_"
      }
    },
    {
      "cell_type": "code",
      "source": [
        "sum = 0\n",
        "\n",
        "while sum<100:\n",
        "  num = int(input(\"숫자를 입력하세요.\"))\n",
        "  sum += num\n",
        "\n",
        "output = f'입력받은 숫자들의 합: {sum}'\n",
        "print(output)"
      ],
      "metadata": {
        "colab": {
          "base_uri": "https://localhost:8080/"
        },
        "id": "G59YptQ8ony-",
        "outputId": "39b10f91-2cc1-423f-f30f-5bd6f9106419"
      },
      "execution_count": 11,
      "outputs": [
        {
          "output_type": "stream",
          "name": "stdout",
          "text": [
            "숫자를 입력하세요.50\n",
            "숫자를 입력하세요.80\n",
            "입력받은 숫자들의 합: 130\n"
          ]
        }
      ]
    },
    {
      "cell_type": "markdown",
      "source": [
        "피보나치 수열은 다음과 같이 정의됩니다: 첫 번째 항과 두 번째 항은 각각 1입니다. 세 번째 항부터는 바로 앞 두 항의 합입니다. 즉, 1, 1, 2, 3, 5, 8, 13, ... 과 같은 수열입니다.\n",
        "- 예를 들어, 사용자가 7을 입력했을 경우 다음과 같이 출력되어야 합니다.\n"
      ],
      "metadata": {
        "id": "cLMxWTftprlW"
      }
    },
    {
      "cell_type": "code",
      "source": [
        "n = int(input(\"[피보나치 수열]\\n\\n 몇 번째 항을 출력할까요? (1 이상의 양의 정수)\"))\n",
        "\n",
        "if n == 1 or n == 2:\n",
        "  result = 1\n",
        "else:\n",
        "  a, b = 1, 1\n",
        "  i = 3\n",
        "  while i <= n:\n",
        "    result = a + b\n",
        "    a = b\n",
        "    b = result\n",
        "    i += 1\n",
        "\n",
        "output = f\"피보나치 수열의 {n}번째 항은 {result}입니다.\"\n",
        "print(output)"
      ],
      "metadata": {
        "colab": {
          "base_uri": "https://localhost:8080/"
        },
        "id": "fgPai3G2pt1e",
        "outputId": "cb0adfae-15dd-467c-9362-c7d7b6d54d66"
      },
      "execution_count": 12,
      "outputs": [
        {
          "output_type": "stream",
          "name": "stdout",
          "text": [
            "[피보나치 수열]\n",
            "\n",
            " 몇 번째 항을 출력할까요? (1 이상의 양의 정수)7\n",
            "피보나치 수열의 7번째 항은 13입니다.\n"
          ]
        }
      ]
    },
    {
      "cell_type": "markdown",
      "source": [
        "두 주사위를 던졌을 때, 합이 7이 되면 이김, 그렇지 않으면 지는 간단한 주사위 게임을 만들어보세요.\n"
      ],
      "metadata": {
        "id": "wT5eaMH1yfzU"
      }
    },
    {
      "cell_type": "code",
      "source": [
        "import random\n",
        "\n",
        "dice1 = random.randint(1,6)\n",
        "dice2 = random.randint(1,6)\n",
        "\n",
        "print(f\"주사위1: {dice1}, 주사위2: {dice2}\")\n",
        "\n",
        "if dice1+dice2 == 7:\n",
        "  print(\"이겼습니다.\")\n",
        "else:\n",
        "  print(\"졌습니다.\")"
      ],
      "metadata": {
        "colab": {
          "base_uri": "https://localhost:8080/"
        },
        "id": "tblNTL1cygVE",
        "outputId": "82c27695-7d8b-40e6-b472-d2068a79c30e"
      },
      "execution_count": 13,
      "outputs": [
        {
          "output_type": "stream",
          "name": "stdout",
          "text": [
            "주사위1: 6, 주사위2: 4\n",
            "이겼습니다.\n"
          ]
        }
      ]
    },
    {
      "cell_type": "markdown",
      "source": [
        "사용자로부터 두 개의 정수와 연산자를 입력받아, 입력된 연산자에 따라 두 수의 사칙연산 결과를 출력하는 계산기 프로그램을 작성하세요. 프로그램은 사용자가 \"exit\"을 입력할 때까지 계속해서 작동합니다.\n",
        "\n",
        "- 입력받은 숫자는 어떠한 값이든 상관없습니다.\n",
        "- 입력받은 연산자는 +, -, *, / 중 하나입니다.\n",
        "- 나눗셈 연산 결과는 실수형으로 출력하세요.\n",
        "- 분모가 0일 경우, \"0으로 나눌 수 없습니다.\"를 출력하세요.\n",
        "- 사용자가 \"exit\"을 입력할 경우, 프로그램을 종료하세요.\n"
      ],
      "metadata": {
        "id": "ahOEvqxN0bPF"
      }
    },
    {
      "cell_type": "code",
      "source": [
        "while True:\n",
        "  a = input(\"[간단한 계산기]\\n\\n 첫번째 수를 입력하세요.('exit'입력시 종료):\")\n",
        "\n",
        "  if a=='exit':\n",
        "    break\n",
        "  \n",
        "  b = input(\"두번째 수를 입력하세요.\")\n",
        "  op = input('연산자를 입력하세요. (+, -, *, /)')\n",
        "\n",
        "  if not a.isdigit() or not b.isdigit():\n",
        "    print(\"올바른 값을 입력하세요.\")\n",
        "    continue\n",
        "\n",
        "  a = int(a)\n",
        "  b = int(b)\n",
        "\n",
        "  if op == \"+\":\n",
        "    result = a + b\n",
        "    output = f\"{a} + {b} = {result}\"\n",
        "  elif op ==\"-\":\n",
        "    result = a - b\n",
        "    output = f\"{a} - {b} = {result}\"\n",
        "  elif op == \"*\":\n",
        "    result = a * b\n",
        "    output = f\"{a} * {b} = {result}\"\n",
        "  elif op == \"/\":\n",
        "    if b == 0:\n",
        "      output=\"0으로 나눌 수 없습니다.\"\n",
        "    else:\n",
        "      result = a / b\n",
        "      output = f\"{a} / {b} = {result}\"\n",
        "  else:\n",
        "    output=\"잘못된 연산자입니다.\"\n",
        "\n",
        "  print(output)\n",
        "\n",
        "  \n",
        "\n"
      ],
      "metadata": {
        "colab": {
          "base_uri": "https://localhost:8080/"
        },
        "id": "r3IWHTN80b8t",
        "outputId": "ccf9c08c-a727-431c-f3e6-a70355921fef"
      },
      "execution_count": 20,
      "outputs": [
        {
          "name": "stdout",
          "output_type": "stream",
          "text": [
            "[간단한 계산기]\n",
            "\n",
            " 첫번째 수를 입력하세요.('exit'입력시 종료):10\n",
            "두번째 수를 입력하세요.20\n",
            "연산자를 입력하세요. (+, -, *, /)+\n",
            "10 + 20 = 30\n",
            "[간단한 계산기]\n",
            "\n",
            " 첫번째 수를 입력하세요.('exit'입력시 종료):exit\n"
          ]
        }
      ]
    },
    {
      "cell_type": "markdown",
      "source": [
        "숫자 맞추기 게임 프로그램\n",
        "- 1에서 100 사이의 난수를 만들고 사용자가 1~100 사이의 수를 입력하여 맞추는 프로그램. 5회까지 맞추지 못하면 종료\n"
      ],
      "metadata": {
        "id": "U8JVt7Aq5f4c"
      }
    },
    {
      "cell_type": "code",
      "source": [
        "import random\n",
        "\n",
        "secret_num = random.randint(1,100)\n",
        "num_guesses = 0\n",
        "guess = 0 \n",
        "while guess!=secret_num and num_guesses<=4:\n",
        "  guess = int(input(\"수를 입력하세요.(1~100)\"))\n",
        "  num_guesses += 1\n",
        "  if guess < secret_num:\n",
        "    print(f\"더 큽니다. {5-num_guesses}회 남았습니다.\")\n",
        "  elif guess > secret_num:\n",
        "    print(f\"더 작습니다. {5-num_guesses}회 남았습니다.\")\n",
        "  else:\n",
        "    print(\"맞았습니다.\")\n",
        "\n",
        "if num_guesses==5 and guess != secret_num:\n",
        "  print(f\"당신이 졌습니다. 정답은 {secret_num}입니다.\")\n"
      ],
      "metadata": {
        "colab": {
          "base_uri": "https://localhost:8080/"
        },
        "id": "uxTBcRBp5gxj",
        "outputId": "35d43c99-e4b2-4c8d-fb59-fa79891a9371"
      },
      "execution_count": 19,
      "outputs": [
        {
          "output_type": "stream",
          "name": "stdout",
          "text": [
            "수를 입력하세요.(1~100)50\n",
            "더 작습니다. 4회 남았습니다.\n",
            "수를 입력하세요.(1~100)25\n",
            "더 작습니다. 3회 남았습니다.\n",
            "수를 입력하세요.(1~100)12\n",
            "더 큽니다. 2회 남았습니다.\n",
            "수를 입력하세요.(1~100)17\n",
            "더 큽니다. 1회 남았습니다.\n",
            "수를 입력하세요.(1~100)19\n",
            "더 작습니다. 0회 남았습니다.\n",
            "당신이 졌습니다. 정답은 18입니다.\n"
          ]
        }
      ]
    },
    {
      "cell_type": "markdown",
      "source": [
        "플레이어가 처음에 $50을 가지고 있다. 동전을 한 번 던져서 앞면(1) 또는 뒷면(2)이 나온다. 맞추면 $9을 따고 틀리면 $10을 잃는다. 플레이어가 돈을 모두 잃거나 $100이 되면 게임이 종료된다.\n"
      ],
      "metadata": {
        "id": "G0T4xvJ1BfvS"
      }
    },
    {
      "cell_type": "code",
      "source": [
        "import random\n",
        "\n",
        "p = 50\n",
        "while True:\n",
        "  coin = random.randint(1,2)\n",
        "  guess = int(input(\"Guess: \"))\n",
        "  \n",
        "  if not(guess==1 or guess==2):\n",
        "    print(\"Try again\")\n",
        "    continue\n",
        "  \n",
        "  if coin == guess:\n",
        "    p += 9\n",
        "    print(\"You win!, Your total:\", p)\n",
        "  else:\n",
        "    p -= 10\n",
        "    print(\"You lose!, Your total:\", p)\n",
        "  \n",
        "  if p >= 100 or p <= 0:\n",
        "    print(\"Your total:\", p, \" Game over\")\n",
        "    break\n",
        "\n",
        " "
      ],
      "metadata": {
        "colab": {
          "base_uri": "https://localhost:8080/"
        },
        "id": "ChuH7Lo4BkOh",
        "outputId": "a6225ca1-d9ca-48c6-ca47-c4f6870be6da"
      },
      "execution_count": 24,
      "outputs": [
        {
          "output_type": "stream",
          "name": "stdout",
          "text": [
            "Guess: 1\n",
            "You lose!, Your total: 40\n",
            "Guess: 2\n",
            "You lose!, Your total: 30\n",
            "Guess: 1\n",
            "You win!, Your total: 39\n",
            "Guess: 1\n",
            "You win!, Your total: 48\n",
            "Guess: 1\n",
            "You win!, Your total: 57\n",
            "Guess: 1\n",
            "You win!, Your total: 66\n",
            "Guess: 1\n",
            "You lose!, Your total: 56\n",
            "Guess: 1\n",
            "You win!, Your total: 65\n",
            "Guess: 1\n",
            "You win!, Your total: 74\n",
            "Guess: 1\n",
            "You win!, Your total: 83\n",
            "Guess: 1\n",
            "You win!, Your total: 92\n",
            "Guess: 1\n",
            "You win!, Your total: 101\n",
            "Your total: 101  Game over\n"
          ]
        }
      ]
    },
    {
      "cell_type": "markdown",
      "source": [
        "두 수의 최대 공약수는 두 수를 나누어 떨어지는 가장 큰 수이다. 예를 들어 (16, 24)의 최대 공약수는 8이다. 두 수를 입력 받아 다음 알고리즘에 의해 최대 공약수를 구하는 프로그램을 작성하라.\n",
        "- 큰 수를 작은 수로 나눈 나머지를 구하라\n",
        "- 큰 수를 작은 수로 대체하고 작은 수는 나머지로 대체하라\n",
        "- 작은 수가 0이 될 때까지 이 과정을 반목하라. 마지막 큰 수가 최대 공약수이다."
      ],
      "metadata": {
        "id": "j2nHslj6Folh"
      }
    },
    {
      "cell_type": "code",
      "source": [
        "num1 = int(input(\"첫 번째 수를 입력하세요.\"))\n",
        "num2 = int(input(\"두 번째 수를 입력하세요.\"))\n",
        "\n",
        "a, b = max(num1, num2), min(num1, num2)\n",
        "\n",
        "while b != 0:\n",
        "  remainder = a % b\n",
        "  a, b = b, remainder\n",
        "\n",
        "result = a\n",
        "print(\"최대공약수:\", result)"
      ],
      "metadata": {
        "colab": {
          "base_uri": "https://localhost:8080/"
        },
        "id": "Q7ewk7EvDjOf",
        "outputId": "14d25d32-2186-4ab1-bf8a-1317e91fbaf6"
      },
      "execution_count": 26,
      "outputs": [
        {
          "output_type": "stream",
          "name": "stdout",
          "text": [
            "첫 번째 수를 입력하세요.16\n",
            "두 번째 수를 입력하세요.24\n",
            "최대공약수: 8\n"
          ]
        }
      ]
    },
    {
      "cell_type": "markdown",
      "source": [
        "정수를 입력 받아 그 수의 약수를 모두 출력하는 프로그램을 작성하라 m % n = 0이면 n은 m의 약수이다. 예를 들어 12의 약수는 1, 2, 3, 4, 6, 12이다. \n"
      ],
      "metadata": {
        "id": "oiT6xfLuHSgR"
      }
    },
    {
      "cell_type": "code",
      "source": [
        "num = int(input(\"수를 입력하세요.\"))\n",
        "for i in range(1, num+1):\n",
        "  if num % i ==0:\n",
        "    print(i, end=\" \")"
      ],
      "metadata": {
        "colab": {
          "base_uri": "https://localhost:8080/"
        },
        "id": "N8Nu27fsHTCY",
        "outputId": "edf25d4f-c12c-421f-badc-4ff178b675b9"
      },
      "execution_count": 28,
      "outputs": [
        {
          "output_type": "stream",
          "name": "stdout",
          "text": [
            "수를 입력하세요.12\n",
            "1 2 3 4 6 12 "
          ]
        }
      ]
    },
    {
      "cell_type": "markdown",
      "source": [
        "임의의 자연수 n이 입력되면 2부터 n까지의 모든 소수를 출력하는 프로그램. 소수는 1과 자기자신으로만 나누어 떨어지는 수, 예 5, 7\n"
      ],
      "metadata": {
        "id": "OZ4LpxkTJjGx"
      }
    },
    {
      "cell_type": "code",
      "source": [
        "num = int(input(\"수를 입력하세요.\"))\n",
        "\n",
        "for i in range(2, num+1):\n",
        "  flag = 1\n",
        "  for j in range(2, i):\n",
        "    if i%j == 0:\n",
        "      flag = 0\n",
        "  if flag == 1:\n",
        "    print(i, end=', ')\n",
        "  else:\n",
        "    flag = 1"
      ],
      "metadata": {
        "colab": {
          "base_uri": "https://localhost:8080/"
        },
        "id": "Mi5OeIx1JmjA",
        "outputId": "912d3f08-a052-414b-be60-24066afc6d48"
      },
      "execution_count": 30,
      "outputs": [
        {
          "output_type": "stream",
          "name": "stdout",
          "text": [
            "수를 입력하세요.12\n",
            "2, 3, 5, 7, 11, "
          ]
        }
      ]
    },
    {
      "cell_type": "code",
      "source": [
        "import time\n",
        "\n",
        "def calm_your_mind():\n",
        "  print(\"마음을 차분하게 하세요...\")\n",
        "  time.sleep(5)\n",
        "  print(\"깊게 숨을 들이마시고 천천히 내쉬세요...\")\n",
        "  time.sleep(3)\n",
        "  print(\"마음을 가라앉히고 긍정정인 생각에 집중하세요.\")\n",
        "\n",
        "#함수 호출하여 마음을 차분하게 할 수 있습니다.\n",
        "calm_your_mind()"
      ],
      "metadata": {
        "colab": {
          "base_uri": "https://localhost:8080/"
        },
        "id": "pO7ROktqIvLQ",
        "outputId": "f119a63f-c20a-4d86-ccf5-a010b8382a19"
      },
      "execution_count": 29,
      "outputs": [
        {
          "output_type": "stream",
          "name": "stdout",
          "text": [
            "마음을 차분하게 하세요...\n",
            "깊게 숨을 들이마시고 천천히 내쉬세요...\n",
            "마음을 가라앉히고 긍정정인 생각에 집중하세요.\n"
          ]
        }
      ]
    },
    {
      "cell_type": "markdown",
      "source": [
        "문자열에 7번째 문자가 있으면 출력하고 없으면 '문자가 없습니다'라는 메시지를 출력하라\n"
      ],
      "metadata": {
        "id": "Xq2OZ_jQTb21"
      }
    },
    {
      "cell_type": "code",
      "source": [
        "s = input(\"문자열을 입력하세요.\")\n",
        "\n",
        "if len(s) >=7:\n",
        "  print(s[6])\n",
        "else:\n",
        "  print(\"문자가 없습니다.\")\n"
      ],
      "metadata": {
        "id": "BNDxdszCTbUe"
      },
      "execution_count": null,
      "outputs": []
    }
  ]
}